{
 "cells": [
  {
   "cell_type": "code",
   "execution_count": null,
   "metadata": {},
   "outputs": [],
   "source": [
    "import numpy as np\n",
    "from sklearn.metrics import ConfusionMatrixDisplay\n",
    "\n",
    "def results(results_group):\n",
    "    if type(results_group) == list:\n",
    "        tmp = {key: [] for key in results_group[0].keys()}\n",
    "        for res in results_group:\n",
    "            for key, value in res.items():\n",
    "                tmp[key].append(value)\n",
    "        results_group = tmp\n",
    "\n",
    "    mean_acc = np.mean(np.array(results_group['accuracy']))\n",
    "    std_acc = np.std(np.array(results_group['accuracy']))\n",
    "    print(f\"10-Fold Cross Validation Accuracy (mean +/- std): {mean_acc} +/- {std_acc}\")\n",
    "\n",
    "    mean_cm = np.array([[0 for _ in range(10)] for _ in range(10)])\n",
    "    total = 0\n",
    "    for cm in results_group['confusion_matrix']:\n",
    "        for i in range(10):\n",
    "            for j in range(10):\n",
    "                mean_cm[i][j] += cm[i][j]\n",
    "                total += cm[i][j]\n",
    "    mean_cm = mean_cm / total * 100\n",
    "    mean_cm = mean_cm.round(decimals=0)\n",
    "    disp = ConfusionMatrixDisplay(confusion_matrix=mean_cm)\n",
    "    disp.plot()"
   ]
  }
 ],
 "metadata": {
  "language_info": {
   "name": "python"
  }
 },
 "nbformat": 4,
 "nbformat_minor": 2
}
